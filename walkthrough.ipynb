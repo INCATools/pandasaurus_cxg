{
 "cells": [
  {
   "cell_type": "markdown",
   "metadata": {},
   "source": [
    "# Pandasaurus CxG Extension Walkthrough "
   ]
  },
  {
   "cell_type": "markdown",
   "metadata": {},
   "source": [
    "## Overview\n",
    "Welcome to this Jupyter notebook walkthrough for pandasaurus_cxg! This library provides powerful tools for analyzing and enriching AnnData objects, enabling you to gain deeper insights into your single-cell RNA sequencing (scRNA-seq) data.\n",
    "\n",
    "In this notebook, we will explore two main classes: `AnndataEnricher` and `AnndataAnalyzer`. Let's dive in and see how these classes can help us in our scRNA-seq analysis.\n",
    "\n",
    "Now, let's get started with an example workflow that demonstrates the capabilities of these classes. We'll load an example dataset, perform enrichment, analysis, and visualization steps to gain a better understanding of our scRNA-seq data."
   ]
  },
  {
   "cell_type": "markdown",
   "metadata": {},
   "source": [
    "## Test Data\n",
    "The following files are used in the walkthrough. Please download them manually to a folder of your choice. Ensure that you adjust the file paths used in the examples to match your local file paths.\n",
    "- [Time-resolved Systems Immunology Reveals a Late Juncture Linked to Fatal COVID-19: Adaptive Cells](https://cellxgene.cziscience.com/collections/db14ce52-5dd6-4649-a9e9-7fb2572d0605)\n",
    "- [Integrated Single-nucleus and Single-cell RNA-seq of the Adult Human Kidney](https://cellxgene.cziscience.com/collections/36b8480d-114e-42fe-b6a9-bdf79a7eb1fc)"
   ]
  },
  {
   "cell_type": "markdown",
   "metadata": {},
   "source": [
    "## AnndataEnricher Walkthrough"
   ]
  },
  {
   "cell_type": "markdown",
   "metadata": {},
   "source": [
    "### Initialization\n",
    "Let's import the necessary modules and initialize our AnndataEnricher"
   ]
  },
  {
   "cell_type": "code",
   "execution_count": 1,
   "metadata": {
    "pycharm": {
     "is_executing": true
    }
   },
   "outputs": [],
   "source": [
    "from pandasaurus_cxg.anndata_enricher import AnndataEnricher"
   ]
  },
  {
   "cell_type": "code",
   "execution_count": 2,
   "metadata": {},
   "outputs": [],
   "source": [
    "# Using Time-resolved Systems Immunology Reveals a Late Juncture Linked to Fatal COVID-19: Adaptive Cells dataset\n",
    "ade = AnndataEnricher.from_file_path(\"test/data/test_covid.h5ad\")"
   ]
  },
  {
   "cell_type": "markdown",
   "metadata": {},
   "source": [
    "Anndata Obs field details"
   ]
  },
  {
   "cell_type": "code",
   "execution_count": 3,
   "metadata": {},
   "outputs": [],
   "source": [
    "ade._anndata.obs"
   ]
  },
  {
   "cell_type": "markdown",
   "metadata": {},
   "source": [
    "Avialable slims for minimal and full slim enrichment methods"
   ]
  },
  {
   "cell_type": "code",
   "execution_count": 4,
   "metadata": {},
   "outputs": [],
   "source": [
    "ade.slim_list"
   ]
  },
  {
   "cell_type": "markdown",
   "metadata": {},
   "source": [
    "Avialable slims for contextual enrichment methods"
   ]
  },
  {
   "cell_type": "code",
   "execution_count": 5,
   "metadata": {},
   "outputs": [],
   "source": [
    "ade._AnndataEnricher__context_list"
   ]
  },
  {
   "cell_type": "markdown",
   "metadata": {},
   "source": [
    "### Enrichment"
   ]
  },
  {
   "cell_type": "markdown",
   "metadata": {},
   "source": [
    "Show all cells that are instances of \"memory T cell\" - before enrichment"
   ]
  },
  {
   "cell_type": "code",
   "execution_count": 6,
   "metadata": {},
   "outputs": [],
   "source": [
    "ade._anndata.obs[ade._anndata.obs[\"cell_type_ontology_term_id\"] == \"CL:0000813\"]"
   ]
  },
  {
   "cell_type": "markdown",
   "metadata": {},
   "source": [
    "#### Simple enrichment\n",
    "Returns a DataFrame that is enriched with inferred relationships between terms in the seed. Subject and object terms are members of the seed terms."
   ]
  },
  {
   "cell_type": "code",
   "execution_count": 7,
   "metadata": {},
   "outputs": [],
   "source": [
    "simple_enrichment = ade.simple_enrichment()\n",
    "simple_enrichment"
   ]
  },
  {
   "cell_type": "markdown",
   "metadata": {},
   "source": [
    "Show all cells that are instances of \"memory T cell\" - after enrichment"
   ]
  },
  {
   "cell_type": "code",
   "execution_count": 8,
   "metadata": {},
   "outputs": [],
   "source": [
    "t_cell_instances = simple_enrichment[simple_enrichment[\"o_label\"] == \"memory T cell\"][\"s\"].tolist()\n",
    "t_cell_instances.append(\"CL:0000813\")\n",
    "ade._anndata.obs[ade._anndata.obs[\"cell_type_ontology_term_id\"].isin(t_cell_instances)]"
   ]
  },
  {
   "cell_type": "markdown",
   "metadata": {},
   "source": [
    "### Discussion\n",
    "**Background**\n",
    ">The enrichment allows us to find all cells that are instances of any CL term in the enrichment table. For any set of non-overlapping enrichment terms, we can add a new obs field with the corresponding anotations.\n",
    ">\n",
    ">Before implementing - add example to Jupyter Notebook & chat with Evan & Mary about whether worth adding as a method\n",
    ">\n",
    ">User chooses a set of one or more terms from enrichment table and a name for a new obs field.\n",
    "> - Test if these classes are subclasses of each other\n",
    "> - if not add new obs field pair (name & ID following standard CxG naming convention).\n",
    "otherwise fail with warning indicating which classes are subclasses of each other.\n",
    "\n",
    "**Question**\n",
    "\n",
    "Should the user add a new obs field based on the enrichment methods using the pandasaurus_cxg function, or would it be more suitable for them to manipulate the anndata directly to accomplish this task?"
   ]
  },
  {
   "cell_type": "code",
   "execution_count": 9,
   "metadata": {},
   "outputs": [],
   "source": [
    "obs_df = ade._anndata.obs\n",
    "new_value = \"memory T cell\"\n",
    "new_obs_field = \"parent\" \n",
    "obs_df[new_obs_field] = \"\"\n",
    "condition = obs_df[\"cell_type_ontology_term_id\"].isin(t_cell_instances)\n",
    "obs_df.loc[condition, new_obs_field] = new_value\n",
    "filtered_columns = [col for col in obs_df.columns if \"ontology_term_id\" in col] + [new_obs_field]\n",
    "obs_df[obs_df[new_obs_field] == new_value][filtered_columns]"
   ]
  },
  {
   "cell_type": "markdown",
   "metadata": {},
   "source": [
    "#### Minimal slim enrichment\n",
    "Returns a DataFrame that is enriched with inferred relationships between terms in the seed list and in an extended seed list. The extended seed list consists of terms from the seed list and terms from given slim lists, classes tagged with some specified ‘subset’ axiom."
   ]
  },
  {
   "cell_type": "code",
   "execution_count": 10,
   "metadata": {},
   "outputs": [],
   "source": [
    "ade.minimal_slim_enrichment([\"blood_and_immune_upper_slim\"])"
   ]
  },
  {
   "cell_type": "markdown",
   "metadata": {},
   "source": [
    "#### Full slim enrichment\n",
    "Returns a DataFrame that is enriched with inferred relationships between terms in the seed list and in an extended seed list. The extended seed list consists of terms from the seed list and terms from given slim lists, classes tagged with some specified ‘subset’ axiom, with inferred terms via transitive subClassOf queries."
   ]
  },
  {
   "cell_type": "code",
   "execution_count": 11,
   "metadata": {},
   "outputs": [],
   "source": [
    "ade.full_slim_enrichment([\"blood_and_immune_upper_slim\"])"
   ]
  },
  {
   "cell_type": "markdown",
   "metadata": {},
   "source": [
    "#### Contextual enrichment\n",
    "Returns a DataFrame that is enriched with inferred relationships between terms in the seed list and in an extended seed list. The extended seed list consists of terms from the seed list and all terms satisfied by some set of existential restrictions in the ubergraph (e.g. part_of some 'kidney')."
   ]
  },
  {
   "cell_type": "code",
   "execution_count": 12,
   "metadata": {},
   "outputs": [],
   "source": [
    "ade.contextual_slim_enrichment()"
   ]
  },
  {
   "cell_type": "markdown",
   "metadata": {},
   "source": [
    "### Secondary Example"
   ]
  },
  {
   "cell_type": "code",
   "execution_count": 13,
   "metadata": {},
   "outputs": [],
   "source": [
    "#Using Integrated Single-nucleus and Single-cell RNA-seq of the Adult Human Kidney dataset\n",
    "ade = AnndataEnricher.from_file_path(\"test/data/human_kidney.h5ad\")\n",
    "print(f\"\"\"Contexts of the dataset from tissue field are \n",
    "{ade._AnndataEnricher__context_list}\"\"\")\n",
    "ade.contextual_slim_enrichment()"
   ]
  },
  {
   "cell_type": "markdown",
   "metadata": {},
   "source": [
    "## AnndataAnalyzer walkthrough"
   ]
  },
  {
   "cell_type": "markdown",
   "metadata": {},
   "source": [
    "### Initialization\n",
    "Let's import the necessary modules and initialize our AnndataAnalyzer"
   ]
  },
  {
   "cell_type": "code",
   "execution_count": 14,
   "metadata": {},
   "outputs": [],
   "source": [
    "from pandasaurus_cxg.anndata_analyzer import AnndataAnalyzer"
   ]
  },
  {
   "cell_type": "code",
   "execution_count": 15,
   "metadata": {},
   "outputs": [],
   "source": [
    "# temporarily using a placeholder schema for free text cell types \n",
    "ada = AnndataAnalyzer(\"test/data/test_covid.h5ad\", \"pandasaurus_cxg/schema/schema.json\")"
   ]
  },
  {
   "cell_type": "markdown",
   "metadata": {},
   "source": [
    "### Analyzer"
   ]
  },
  {
   "cell_type": "markdown",
   "metadata": {},
   "source": [
    "#### Co-annotation report\n",
    "Generates a co-annotation report based on the provided schema."
   ]
  },
  {
   "cell_type": "code",
   "execution_count": 16,
   "metadata": {},
   "outputs": [],
   "source": [
    "ada.co_annotation_report()"
   ]
  },
  {
   "cell_type": "markdown",
   "metadata": {},
   "source": [
    "### Secondary Example"
   ]
  },
  {
   "cell_type": "code",
   "execution_count": 17,
   "metadata": {},
   "outputs": [],
   "source": [
    "ada = AnndataAnalyzer(\"test/data/human_kidney.h5ad\", \"pandasaurus_cxg/schema/schema.json\")\n",
    "ada.co_annotation_report()"
   ]
  },
  {
   "cell_type": "code",
   "execution_count": null,
   "metadata": {},
   "outputs": [],
   "source": []
  }
 ],
 "metadata": {
  "kernelspec": {
   "display_name": "Python 3 (ipykernel)",
   "language": "python",
   "name": "python3"
  },
  "language_info": {
   "codemirror_mode": {
    "name": "ipython",
    "version": 3
   },
   "file_extension": ".py",
   "mimetype": "text/x-python",
   "name": "python",
   "nbconvert_exporter": "python",
   "pygments_lexer": "ipython3",
   "version": "3.9.17"
  }
 },
 "nbformat": 4,
 "nbformat_minor": 1
}

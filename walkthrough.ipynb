{
 "cells": [
  {
   "cell_type": "markdown",
   "metadata": {},
   "source": [
    "# Pandasaurus CxG Extension Walkthrough "
   ]
  },
  {
   "cell_type": "markdown",
   "metadata": {},
   "source": [
    "## Overview\n",
    "Welcome to this Jupyter notebook walkthrough for pandasaurus_cxg! This library provides powerful tools for analyzing and enriching AnnData objects, enabling you to gain deeper insights into your single-cell RNA sequencing (scRNA-seq) data.\n",
    "\n",
    "In this notebook, we will explore two main classes: `AnndataEnricher` and `AnndataAnalyzer`. Let's dive in and see how these classes can help us in our scRNA-seq analysis.\n",
    "\n",
    "Now, let's get started with an example workflow that demonstrates the capabilities of these classes. We'll load an example dataset, perform enrichment, analysis, and visualization steps to gain a better understanding of our scRNA-seq data.\n",
    "\n",
    "Let's import the necessary modules and get started!"
   ]
  },
  {
   "cell_type": "code",
   "execution_count": 2,
   "metadata": {
    "scrolled": true
   },
   "outputs": [
    {
     "name": "stdout",
     "output_type": "stream",
     "text": [
      "Requirement already satisfied: oaklib==0.5.12 in ./venv/lib/python3.9/site-packages (0.5.12)\n",
      "Requirement already satisfied: SPARQLWrapper in ./venv/lib/python3.9/site-packages (from oaklib==0.5.12) (2.0.0)\n",
      "Requirement already satisfied: SQLAlchemy>=1.4.32 in ./venv/lib/python3.9/site-packages (from oaklib==0.5.12) (2.0.16)\n",
      "Requirement already satisfied: airium>=0.2.5 in ./venv/lib/python3.9/site-packages (from oaklib==0.5.12) (0.2.5)\n",
      "Requirement already satisfied: appdirs>=1.4.4 in ./venv/lib/python3.9/site-packages (from oaklib==0.5.12) (1.4.4)\n",
      "Requirement already satisfied: bioregistry>=0.6.35 in ./venv/lib/python3.9/site-packages (from oaklib==0.5.12) (0.9.52)\n",
      "Requirement already satisfied: class-resolver>=0.4.2 in ./venv/lib/python3.9/site-packages (from oaklib==0.5.12) (0.4.2)\n",
      "Requirement already satisfied: click in ./venv/lib/python3.9/site-packages (from oaklib==0.5.12) (8.1.3)\n",
      "Requirement already satisfied: curies>=0.5.5 in ./venv/lib/python3.9/site-packages (from oaklib==0.5.12) (0.5.5)\n",
      "Requirement already satisfied: eutils>=0.6.0 in ./venv/lib/python3.9/site-packages (from oaklib==0.5.12) (0.6.0)\n",
      "Requirement already satisfied: funowl>=0.1.12 in ./venv/lib/python3.9/site-packages (from oaklib==0.5.12) (0.1.13)\n",
      "Requirement already satisfied: kgcl-rdflib==0.5.0 in ./venv/lib/python3.9/site-packages (from oaklib==0.5.12) (0.5.0)\n",
      "Requirement already satisfied: kgcl-schema==0.5.0 in ./venv/lib/python3.9/site-packages (from oaklib==0.5.12) (0.5.0)\n",
      "Requirement already satisfied: lark>=1.1.2 in ./venv/lib/python3.9/site-packages (from oaklib==0.5.12) (1.1.5)\n",
      "Requirement already satisfied: linkml-renderer>=0.2.0 in ./venv/lib/python3.9/site-packages (from oaklib==0.5.12) (0.2.0)\n",
      "Requirement already satisfied: linkml-runtime>=1.5.3 in ./venv/lib/python3.9/site-packages (from oaklib==0.5.12) (1.5.4)\n",
      "Requirement already satisfied: ndex2<4.0.0,>=3.5.0 in ./venv/lib/python3.9/site-packages (from oaklib==0.5.12) (3.5.1)\n",
      "Requirement already satisfied: networkx>=2.7.1 in ./venv/lib/python3.9/site-packages (from oaklib==0.5.12) (3.1)\n",
      "Requirement already satisfied: ols-client>=0.1.1 in ./venv/lib/python3.9/site-packages (from oaklib==0.5.12) (0.1.4)\n",
      "Requirement already satisfied: ontoportal-client>=0.0.3 in ./venv/lib/python3.9/site-packages (from oaklib==0.5.12) (0.0.4)\n",
      "Requirement already satisfied: prefixmaps>=0.1.2 in ./venv/lib/python3.9/site-packages (from oaklib==0.5.12) (0.1.5)\n",
      "Requirement already satisfied: pronto>=2.5.0 in ./venv/lib/python3.9/site-packages (from oaklib==0.5.12) (2.5.4)\n",
      "Requirement already satisfied: pysolr<4.0.0,>=3.9.0 in ./venv/lib/python3.9/site-packages (from oaklib==0.5.12) (3.9.0)\n",
      "Requirement already satisfied: pystow>=0.5.0 in ./venv/lib/python3.9/site-packages (from oaklib==0.5.12) (0.5.0)\n",
      "Requirement already satisfied: ratelimit>=2.2.1 in ./venv/lib/python3.9/site-packages (from oaklib==0.5.12) (2.2.1)\n",
      "Requirement already satisfied: requests-cache<2.0.0,>=1.0.1 in ./venv/lib/python3.9/site-packages (from oaklib==0.5.12) (1.0.1)\n",
      "Requirement already satisfied: semsimian<0.2.0,>=0.1.16 in ./venv/lib/python3.9/site-packages (from oaklib==0.5.12) (0.1.16)\n",
      "Requirement already satisfied: semsql>=0.3.1 in ./venv/lib/python3.9/site-packages (from oaklib==0.5.12) (0.3.2)\n",
      "Requirement already satisfied: sssom>=0.3.31 in ./venv/lib/python3.9/site-packages (from oaklib==0.5.12) (0.3.32)\n",
      "Requirement already satisfied: sssom-schema>=0.11.0 in ./venv/lib/python3.9/site-packages (from oaklib==0.5.12) (0.13.0)\n",
      "Requirement already satisfied: requests in ./venv/lib/python3.9/site-packages (from bioregistry>=0.6.35->oaklib==0.5.12) (2.31.0)\n",
      "Requirement already satisfied: tqdm in ./venv/lib/python3.9/site-packages (from bioregistry>=0.6.35->oaklib==0.5.12) (4.65.0)\n",
      "Requirement already satisfied: more-click>=0.1.2 in ./venv/lib/python3.9/site-packages (from bioregistry>=0.6.35->oaklib==0.5.12) (0.1.2)\n",
      "Requirement already satisfied: pydantic in ./venv/lib/python3.9/site-packages (from bioregistry>=0.6.35->oaklib==0.5.12) (1.10.9)\n",
      "Requirement already satisfied: importlib-metadata>3.6 in ./venv/lib/python3.9/site-packages (from class-resolver>=0.4.2->oaklib==0.5.12) (6.7.0)\n",
      "Requirement already satisfied: pytrie in ./venv/lib/python3.9/site-packages (from curies>=0.5.5->oaklib==0.5.12) (0.4.0)\n",
      "Requirement already satisfied: lxml in ./venv/lib/python3.9/site-packages (from eutils>=0.6.0->oaklib==0.5.12) (4.9.2)\n",
      "Requirement already satisfied: pytz in ./venv/lib/python3.9/site-packages (from eutils>=0.6.0->oaklib==0.5.12) (2023.3)\n",
      "Requirement already satisfied: bcp47 in ./venv/lib/python3.9/site-packages (from funowl>=0.1.12->oaklib==0.5.12) (0.0.4)\n",
      "Requirement already satisfied: jsonasobj in ./venv/lib/python3.9/site-packages (from funowl>=0.1.12->oaklib==0.5.12) (1.3.1)\n",
      "Requirement already satisfied: pyjsg>=0.11.6 in ./venv/lib/python3.9/site-packages (from funowl>=0.1.12->oaklib==0.5.12) (0.11.10)\n",
      "Requirement already satisfied: rdflib-shim in ./venv/lib/python3.9/site-packages (from funowl>=0.1.12->oaklib==0.5.12) (1.0.3)\n",
      "Requirement already satisfied: rdflib==6.2.0 in ./venv/lib/python3.9/site-packages (from funowl>=0.1.12->oaklib==0.5.12) (6.2.0)\n",
      "Requirement already satisfied: rfc3987 in ./venv/lib/python3.9/site-packages (from funowl>=0.1.12->oaklib==0.5.12) (1.3.8)\n",
      "Requirement already satisfied: isodate in ./venv/lib/python3.9/site-packages (from rdflib==6.2.0->funowl>=0.1.12->oaklib==0.5.12) (0.6.1)\n",
      "Requirement already satisfied: pyparsing in ./venv/lib/python3.9/site-packages (from rdflib==6.2.0->funowl>=0.1.12->oaklib==0.5.12) (3.1.0)\n",
      "Requirement already satisfied: setuptools in ./venv/lib/python3.9/site-packages (from rdflib==6.2.0->funowl>=0.1.12->oaklib==0.5.12) (68.0.0)\n",
      "Requirement already satisfied: deprecated in ./venv/lib/python3.9/site-packages (from linkml-runtime>=1.5.3->oaklib==0.5.12) (1.2.14)\n",
      "Requirement already satisfied: hbreader in ./venv/lib/python3.9/site-packages (from linkml-runtime>=1.5.3->oaklib==0.5.12) (0.9.1)\n",
      "Requirement already satisfied: json-flattener>=0.1.9 in ./venv/lib/python3.9/site-packages (from linkml-runtime>=1.5.3->oaklib==0.5.12) (0.1.9)\n",
      "Requirement already satisfied: jsonasobj2<2.dev0,>=1.0.4 in ./venv/lib/python3.9/site-packages (from linkml-runtime>=1.5.3->oaklib==0.5.12) (1.0.4)\n",
      "Requirement already satisfied: jsonschema>=3.2.0 in ./venv/lib/python3.9/site-packages (from linkml-runtime>=1.5.3->oaklib==0.5.12) (4.17.3)\n",
      "Requirement already satisfied: prefixcommons>=0.1.12 in ./venv/lib/python3.9/site-packages (from linkml-runtime>=1.5.3->oaklib==0.5.12) (0.1.12)\n",
      "Requirement already satisfied: pyyaml in ./venv/lib/python3.9/site-packages (from linkml-runtime>=1.5.3->oaklib==0.5.12) (6.0)\n",
      "Requirement already satisfied: six in ./venv/lib/python3.9/site-packages (from ndex2<4.0.0,>=3.5.0->oaklib==0.5.12) (1.16.0)\n",
      "Requirement already satisfied: ijson in ./venv/lib/python3.9/site-packages (from ndex2<4.0.0,>=3.5.0->oaklib==0.5.12) (3.2.1)\n",
      "Requirement already satisfied: requests-toolbelt in ./venv/lib/python3.9/site-packages (from ndex2<4.0.0,>=3.5.0->oaklib==0.5.12) (1.0.0)\n",
      "Requirement already satisfied: urllib3>=1.16 in ./venv/lib/python3.9/site-packages (from ndex2<4.0.0,>=3.5.0->oaklib==0.5.12) (2.0.3)\n",
      "Requirement already satisfied: pandas in ./venv/lib/python3.9/site-packages (from ndex2<4.0.0,>=3.5.0->oaklib==0.5.12) (2.0.2)\n",
      "Requirement already satisfied: numpy in ./venv/lib/python3.9/site-packages (from ndex2<4.0.0,>=3.5.0->oaklib==0.5.12) (1.25.0)\n",
      "Requirement already satisfied: typing-extensions in ./venv/lib/python3.9/site-packages (from ontoportal-client>=0.0.3->oaklib==0.5.12) (4.6.3)\n",
      "Requirement already satisfied: greenlet==2.0.1 in ./venv/lib/python3.9/site-packages (from prefixmaps>=0.1.2->oaklib==0.5.12) (2.0.1)\n",
      "Requirement already satisfied: chardet~=5.0 in ./venv/lib/python3.9/site-packages (from pronto>=2.5.0->oaklib==0.5.12) (5.1.0)\n",
      "Requirement already satisfied: fastobo~=0.12.2 in ./venv/lib/python3.9/site-packages (from pronto>=2.5.0->oaklib==0.5.12) (0.12.2)\n",
      "Requirement already satisfied: python-dateutil~=2.8 in ./venv/lib/python3.9/site-packages (from pronto>=2.5.0->oaklib==0.5.12) (2.8.2)\n",
      "Requirement already satisfied: attrs>=21.2 in ./venv/lib/python3.9/site-packages (from requests-cache<2.0.0,>=1.0.1->oaklib==0.5.12) (23.1.0)\n",
      "Requirement already satisfied: cattrs>=22.2 in ./venv/lib/python3.9/site-packages (from requests-cache<2.0.0,>=1.0.1->oaklib==0.5.12) (23.1.2)\n",
      "Requirement already satisfied: platformdirs>=2.5 in ./venv/lib/python3.9/site-packages (from requests-cache<2.0.0,>=1.0.1->oaklib==0.5.12) (3.7.0)\n",
      "Requirement already satisfied: url-normalize>=1.4 in ./venv/lib/python3.9/site-packages (from requests-cache<2.0.0,>=1.0.1->oaklib==0.5.12) (1.4.3)\n",
      "Requirement already satisfied: SQLAlchemy-Utils<0.39.0,>=0.38.2 in ./venv/lib/python3.9/site-packages (from semsql>=0.3.1->oaklib==0.5.12) (0.38.3)\n",
      "Requirement already satisfied: deprecation in ./venv/lib/python3.9/site-packages (from sssom>=0.3.31->oaklib==0.5.12) (2.1.0)\n",
      "Requirement already satisfied: linkml in ./venv/lib/python3.9/site-packages (from sssom>=0.3.31->oaklib==0.5.12) (1.5.5)\n",
      "Requirement already satisfied: pansql in ./venv/lib/python3.9/site-packages (from sssom>=0.3.31->oaklib==0.5.12) (0.0.1)\n",
      "Requirement already satisfied: scipy in ./venv/lib/python3.9/site-packages (from sssom>=0.3.31->oaklib==0.5.12) (1.9.3)\n",
      "Requirement already satisfied: validators in ./venv/lib/python3.9/site-packages (from sssom>=0.3.31->oaklib==0.5.12) (0.20.0)\n",
      "Requirement already satisfied: mkdocs-mermaid2-plugin<0.7.0,>=0.6.0 in ./venv/lib/python3.9/site-packages (from sssom-schema>=0.11.0->oaklib==0.5.12) (0.6.0)\n"
     ]
    },
    {
     "name": "stdout",
     "output_type": "stream",
     "text": [
      "Requirement already satisfied: exceptiongroup in ./venv/lib/python3.9/site-packages (from cattrs>=22.2->requests-cache<2.0.0,>=1.0.1->oaklib==0.5.12) (1.1.1)\n",
      "Requirement already satisfied: zipp>=0.5 in ./venv/lib/python3.9/site-packages (from importlib-metadata>3.6->class-resolver>=0.4.2->oaklib==0.5.12) (3.15.0)\n",
      "Requirement already satisfied: pyrsistent!=0.17.0,!=0.17.1,!=0.17.2,>=0.14.0 in ./venv/lib/python3.9/site-packages (from jsonschema>=3.2.0->linkml-runtime>=1.5.3->oaklib==0.5.12) (0.19.3)\n",
      "Requirement already satisfied: beautifulsoup4>=4.6.3 in ./venv/lib/python3.9/site-packages (from mkdocs-mermaid2-plugin<0.7.0,>=0.6.0->sssom-schema>=0.11.0->oaklib==0.5.12) (4.12.2)\n",
      "Requirement already satisfied: mkdocs>=1.0.4 in ./venv/lib/python3.9/site-packages (from mkdocs-mermaid2-plugin<0.7.0,>=0.6.0->sssom-schema>=0.11.0->oaklib==0.5.12) (1.4.3)\n",
      "Requirement already satisfied: jsbeautifier in ./venv/lib/python3.9/site-packages (from mkdocs-mermaid2-plugin<0.7.0,>=0.6.0->sssom-schema>=0.11.0->oaklib==0.5.12) (1.14.8)\n",
      "Requirement already satisfied: mkdocs-material in ./venv/lib/python3.9/site-packages (from mkdocs-mermaid2-plugin<0.7.0,>=0.6.0->sssom-schema>=0.11.0->oaklib==0.5.12) (9.1.16)\n",
      "Requirement already satisfied: pymdown-extensions>=8.0 in ./venv/lib/python3.9/site-packages (from mkdocs-mermaid2-plugin<0.7.0,>=0.6.0->sssom-schema>=0.11.0->oaklib==0.5.12) (10.0.1)\n",
      "Requirement already satisfied: pytest-logging<2016.0.0,>=2015.11.4 in ./venv/lib/python3.9/site-packages (from prefixcommons>=0.1.12->linkml-runtime>=1.5.3->oaklib==0.5.12) (2015.11.4)\n",
      "Requirement already satisfied: antlr4-python3-runtime~=4.9.3 in ./venv/lib/python3.9/site-packages (from pyjsg>=0.11.6->funowl>=0.1.12->oaklib==0.5.12) (4.9.3)\n",
      "Requirement already satisfied: charset-normalizer<4,>=2 in ./venv/lib/python3.9/site-packages (from requests->bioregistry>=0.6.35->oaklib==0.5.12) (3.1.0)\n",
      "Requirement already satisfied: idna<4,>=2.5 in ./venv/lib/python3.9/site-packages (from requests->bioregistry>=0.6.35->oaklib==0.5.12) (3.4)\n",
      "Requirement already satisfied: certifi>=2017.4.17 in ./venv/lib/python3.9/site-packages (from requests->bioregistry>=0.6.35->oaklib==0.5.12) (2023.5.7)\n",
      "Requirement already satisfied: decorator>=3.4.0 in ./venv/lib/python3.9/site-packages (from validators->sssom>=0.3.31->oaklib==0.5.12) (5.1.1)\n",
      "Requirement already satisfied: wrapt<2,>=1.10 in ./venv/lib/python3.9/site-packages (from deprecated->linkml-runtime>=1.5.3->oaklib==0.5.12) (1.15.0)\n",
      "Requirement already satisfied: packaging in ./venv/lib/python3.9/site-packages (from deprecation->sssom>=0.3.31->oaklib==0.5.12) (23.1)\n",
      "Requirement already satisfied: graphviz>=0.10.1 in ./venv/lib/python3.9/site-packages (from linkml->sssom>=0.3.31->oaklib==0.5.12) (0.20.1)\n",
      "Requirement already satisfied: jinja2>=3.1.0 in ./venv/lib/python3.9/site-packages (from linkml->sssom>=0.3.31->oaklib==0.5.12) (3.1.2)\n",
      "Requirement already satisfied: linkml-dataops in ./venv/lib/python3.9/site-packages (from linkml->sssom>=0.3.31->oaklib==0.5.12) (0.1.0)\n",
      "Requirement already satisfied: openpyxl in ./venv/lib/python3.9/site-packages (from linkml->sssom>=0.3.31->oaklib==0.5.12) (3.1.2)\n",
      "Requirement already satisfied: parse in ./venv/lib/python3.9/site-packages (from linkml->sssom>=0.3.31->oaklib==0.5.12) (1.19.1)\n",
      "Requirement already satisfied: pyshex>=0.7.20 in ./venv/lib/python3.9/site-packages (from linkml->sssom>=0.3.31->oaklib==0.5.12) (0.8.1)\n",
      "Requirement already satisfied: pyshexc>=0.8.3 in ./venv/lib/python3.9/site-packages (from linkml->sssom>=0.3.31->oaklib==0.5.12) (0.9.1)\n",
      "Requirement already satisfied: watchdog>=0.9.0 in ./venv/lib/python3.9/site-packages (from linkml->sssom>=0.3.31->oaklib==0.5.12) (3.0.0)\n",
      "Requirement already satisfied: tzdata>=2022.1 in ./venv/lib/python3.9/site-packages (from pandas->ndex2<4.0.0,>=3.5.0->oaklib==0.5.12) (2023.3)\n",
      "Requirement already satisfied: sortedcontainers in ./venv/lib/python3.9/site-packages (from pytrie->curies>=0.5.5->oaklib==0.5.12) (2.4.0)\n",
      "Requirement already satisfied: rdflib-jsonld==0.6.1 in ./venv/lib/python3.9/site-packages (from rdflib-shim->funowl>=0.1.12->oaklib==0.5.12) (0.6.1)\n",
      "Requirement already satisfied: soupsieve>1.2 in ./venv/lib/python3.9/site-packages (from beautifulsoup4>=4.6.3->mkdocs-mermaid2-plugin<0.7.0,>=0.6.0->sssom-schema>=0.11.0->oaklib==0.5.12) (2.4.1)\n",
      "Requirement already satisfied: MarkupSafe>=2.0 in ./venv/lib/python3.9/site-packages (from jinja2>=3.1.0->linkml->sssom>=0.3.31->oaklib==0.5.12) (2.1.3)\n",
      "Requirement already satisfied: fqdn in ./venv/lib/python3.9/site-packages (from jsonschema>=3.2.0->linkml-runtime>=1.5.3->oaklib==0.5.12) (1.5.1)\n",
      "Requirement already satisfied: isoduration in ./venv/lib/python3.9/site-packages (from jsonschema>=3.2.0->linkml-runtime>=1.5.3->oaklib==0.5.12) (20.11.0)\n",
      "Requirement already satisfied: jsonpointer>1.13 in ./venv/lib/python3.9/site-packages (from jsonschema>=3.2.0->linkml-runtime>=1.5.3->oaklib==0.5.12) (2.4)\n",
      "Requirement already satisfied: rfc3339-validator in ./venv/lib/python3.9/site-packages (from jsonschema>=3.2.0->linkml-runtime>=1.5.3->oaklib==0.5.12) (0.1.4)\n",
      "Requirement already satisfied: uri-template in ./venv/lib/python3.9/site-packages (from jsonschema>=3.2.0->linkml-runtime>=1.5.3->oaklib==0.5.12) (1.3.0)\n",
      "Requirement already satisfied: webcolors>=1.11 in ./venv/lib/python3.9/site-packages (from jsonschema>=3.2.0->linkml-runtime>=1.5.3->oaklib==0.5.12) (1.13)\n",
      "Requirement already satisfied: ghp-import>=1.0 in ./venv/lib/python3.9/site-packages (from mkdocs>=1.0.4->mkdocs-mermaid2-plugin<0.7.0,>=0.6.0->sssom-schema>=0.11.0->oaklib==0.5.12) (2.1.0)\n",
      "Requirement already satisfied: markdown<3.4,>=3.2.1 in ./venv/lib/python3.9/site-packages (from mkdocs>=1.0.4->mkdocs-mermaid2-plugin<0.7.0,>=0.6.0->sssom-schema>=0.11.0->oaklib==0.5.12) (3.3.7)\n",
      "Requirement already satisfied: mergedeep>=1.3.4 in ./venv/lib/python3.9/site-packages (from mkdocs>=1.0.4->mkdocs-mermaid2-plugin<0.7.0,>=0.6.0->sssom-schema>=0.11.0->oaklib==0.5.12) (1.3.4)\n",
      "Requirement already satisfied: pyyaml-env-tag>=0.1 in ./venv/lib/python3.9/site-packages (from mkdocs>=1.0.4->mkdocs-mermaid2-plugin<0.7.0,>=0.6.0->sssom-schema>=0.11.0->oaklib==0.5.12) (0.1)\n",
      "Requirement already satisfied: cfgraph>=0.2.1 in ./venv/lib/python3.9/site-packages (from pyshex>=0.7.20->linkml->sssom>=0.3.31->oaklib==0.5.12) (0.2.1)\n",
      "Requirement already satisfied: shexjsg>=0.8.2 in ./venv/lib/python3.9/site-packages (from pyshex>=0.7.20->linkml->sssom>=0.3.31->oaklib==0.5.12) (0.8.2)\n",
      "Requirement already satisfied: sparqlslurper>=0.5.1 in ./venv/lib/python3.9/site-packages (from pyshex>=0.7.20->linkml->sssom>=0.3.31->oaklib==0.5.12) (0.5.1)\n",
      "Requirement already satisfied: pytest>=2.8.1 in ./venv/lib/python3.9/site-packages (from pytest-logging<2016.0.0,>=2015.11.4->prefixcommons>=0.1.12->linkml-runtime>=1.5.3->oaklib==0.5.12) (7.3.2)\n",
      "Requirement already satisfied: editorconfig>=0.12.2 in ./venv/lib/python3.9/site-packages (from jsbeautifier->mkdocs-mermaid2-plugin<0.7.0,>=0.6.0->sssom-schema>=0.11.0->oaklib==0.5.12) (0.12.3)\n",
      "Requirement already satisfied: jsonpatch in ./venv/lib/python3.9/site-packages (from linkml-dataops->linkml->sssom>=0.3.31->oaklib==0.5.12) (1.33)\n",
      "Requirement already satisfied: jsonpath-ng in ./venv/lib/python3.9/site-packages (from linkml-dataops->linkml->sssom>=0.3.31->oaklib==0.5.12) (1.5.3)\n",
      "Requirement already satisfied: ruamel.yaml in ./venv/lib/python3.9/site-packages (from linkml-dataops->linkml->sssom>=0.3.31->oaklib==0.5.12) (0.17.32)\n",
      "Requirement already satisfied: colorama>=0.4 in ./venv/lib/python3.9/site-packages (from mkdocs-material->mkdocs-mermaid2-plugin<0.7.0,>=0.6.0->sssom-schema>=0.11.0->oaklib==0.5.12) (0.4.6)\n",
      "Requirement already satisfied: mkdocs-material-extensions>=1.1 in ./venv/lib/python3.9/site-packages (from mkdocs-material->mkdocs-mermaid2-plugin<0.7.0,>=0.6.0->sssom-schema>=0.11.0->oaklib==0.5.12) (1.1.1)\n",
      "Requirement already satisfied: pygments>=2.14 in ./venv/lib/python3.9/site-packages (from mkdocs-material->mkdocs-mermaid2-plugin<0.7.0,>=0.6.0->sssom-schema>=0.11.0->oaklib==0.5.12) (2.15.1)\n",
      "Requirement already satisfied: regex>=2022.4.24 in ./venv/lib/python3.9/site-packages (from mkdocs-material->mkdocs-mermaid2-plugin<0.7.0,>=0.6.0->sssom-schema>=0.11.0->oaklib==0.5.12) (2023.6.3)\n"
     ]
    },
    {
     "name": "stdout",
     "output_type": "stream",
     "text": [
      "Requirement already satisfied: et-xmlfile in ./venv/lib/python3.9/site-packages (from openpyxl->linkml->sssom>=0.3.31->oaklib==0.5.12) (1.1.0)\n",
      "Requirement already satisfied: iniconfig in ./venv/lib/python3.9/site-packages (from pytest>=2.8.1->pytest-logging<2016.0.0,>=2015.11.4->prefixcommons>=0.1.12->linkml-runtime>=1.5.3->oaklib==0.5.12) (2.0.0)\n",
      "Requirement already satisfied: pluggy<2.0,>=0.12 in ./venv/lib/python3.9/site-packages (from pytest>=2.8.1->pytest-logging<2016.0.0,>=2015.11.4->prefixcommons>=0.1.12->linkml-runtime>=1.5.3->oaklib==0.5.12) (1.2.0)\n",
      "Requirement already satisfied: tomli>=1.0.0 in ./venv/lib/python3.9/site-packages (from pytest>=2.8.1->pytest-logging<2016.0.0,>=2015.11.4->prefixcommons>=0.1.12->linkml-runtime>=1.5.3->oaklib==0.5.12) (2.0.1)\n",
      "Requirement already satisfied: arrow>=0.15.0 in ./venv/lib/python3.9/site-packages (from isoduration->jsonschema>=3.2.0->linkml-runtime>=1.5.3->oaklib==0.5.12) (1.2.3)\n",
      "Requirement already satisfied: ply in ./venv/lib/python3.9/site-packages (from jsonpath-ng->linkml-dataops->linkml->sssom>=0.3.31->oaklib==0.5.12) (3.11)\n",
      "Requirement already satisfied: ruamel.yaml.clib>=0.2.7 in ./venv/lib/python3.9/site-packages (from ruamel.yaml->linkml-dataops->linkml->sssom>=0.3.31->oaklib==0.5.12) (0.2.7)\n"
     ]
    }
   ],
   "source": [
    "!pip install oaklib==0.5.12\n",
    "!pip install pandas==2.0.1\n",
    "!pip install -i https://test.pypi.org/simple/ pandasaurus==0.2.0"
   ]
  },
  {
   "cell_type": "code",
   "execution_count": 4,
   "metadata": {},
   "outputs": [
    {
     "ename": "ModuleNotFoundError",
     "evalue": "No module named 'src'",
     "output_type": "error",
     "traceback": [
      "\u001b[0;31m---------------------------------------------------------------------------\u001b[0m",
      "\u001b[0;31mModuleNotFoundError\u001b[0m                       Traceback (most recent call last)",
      "Cell \u001b[0;32mIn[4], line 1\u001b[0m\n\u001b[0;32m----> 1\u001b[0m \u001b[38;5;28;01mfrom\u001b[39;00m \u001b[38;5;21;01mpandasaurus_cxg\u001b[39;00m\u001b[38;5;21;01m.\u001b[39;00m\u001b[38;5;21;01manndata_enricher\u001b[39;00m \u001b[38;5;28;01mimport\u001b[39;00m AnndataEnricher\n\u001b[1;32m      2\u001b[0m \u001b[38;5;28;01mfrom\u001b[39;00m \u001b[38;5;21;01mpandasaurus_cxg\u001b[39;00m\u001b[38;5;21;01m.\u001b[39;00m\u001b[38;5;21;01manndata_analyzer\u001b[39;00m \u001b[38;5;28;01mimport\u001b[39;00m AnndataAnalyzer\n",
      "File \u001b[0;32m~/github/pandasaurus_cxg/pandasaurus_cxg/anndata_enricher.py:4\u001b[0m\n\u001b[1;32m      1\u001b[0m \u001b[38;5;28;01mfrom\u001b[39;00m \u001b[38;5;21;01mtyping\u001b[39;00m \u001b[38;5;28;01mimport\u001b[39;00m List, Optional\n\u001b[1;32m      3\u001b[0m \u001b[38;5;28;01mimport\u001b[39;00m \u001b[38;5;21;01mpandas\u001b[39;00m \u001b[38;5;28;01mas\u001b[39;00m \u001b[38;5;21;01mpd\u001b[39;00m\n\u001b[0;32m----> 4\u001b[0m \u001b[38;5;28;01mfrom\u001b[39;00m \u001b[38;5;21;01mpandasaurus\u001b[39;00m\u001b[38;5;21;01m.\u001b[39;00m\u001b[38;5;21;01mquery\u001b[39;00m \u001b[38;5;28;01mimport\u001b[39;00m Query\n\u001b[1;32m      5\u001b[0m \u001b[38;5;28;01mfrom\u001b[39;00m \u001b[38;5;21;01mpandasaurus\u001b[39;00m\u001b[38;5;21;01m.\u001b[39;00m\u001b[38;5;21;01mslim_manager\u001b[39;00m \u001b[38;5;28;01mimport\u001b[39;00m SlimManager\n\u001b[1;32m      7\u001b[0m \u001b[38;5;28;01mfrom\u001b[39;00m \u001b[38;5;21;01mpandasaurus_cxg\u001b[39;00m\u001b[38;5;21;01m.\u001b[39;00m\u001b[38;5;21;01manndata_loader\u001b[39;00m \u001b[38;5;28;01mimport\u001b[39;00m AnndataLoader\n",
      "File \u001b[0;32m~/github/pandasaurus_cxg/venv/lib/python3.9/site-packages/pandasaurus/query.py:6\u001b[0m\n\u001b[1;32m      2\u001b[0m \u001b[38;5;28;01mfrom\u001b[39;00m \u001b[38;5;21;01mtyping\u001b[39;00m \u001b[38;5;28;01mimport\u001b[39;00m List, Optional\n\u001b[1;32m      4\u001b[0m \u001b[38;5;28;01mimport\u001b[39;00m \u001b[38;5;21;01mpandas\u001b[39;00m \u001b[38;5;28;01mas\u001b[39;00m \u001b[38;5;21;01mpd\u001b[39;00m\n\u001b[0;32m----> 6\u001b[0m \u001b[38;5;28;01mfrom\u001b[39;00m \u001b[38;5;21;01msrc\u001b[39;00m\u001b[38;5;21;01m.\u001b[39;00m\u001b[38;5;21;01mpandasaurus\u001b[39;00m\u001b[38;5;21;01m.\u001b[39;00m\u001b[38;5;21;01mcurie_validator\u001b[39;00m \u001b[38;5;28;01mimport\u001b[39;00m CurieValidator\n\u001b[1;32m      7\u001b[0m \u001b[38;5;28;01mfrom\u001b[39;00m \u001b[38;5;21;01msrc\u001b[39;00m\u001b[38;5;21;01m.\u001b[39;00m\u001b[38;5;21;01mpandasaurus\u001b[39;00m\u001b[38;5;21;01m.\u001b[39;00m\u001b[38;5;21;01mresources\u001b[39;00m\u001b[38;5;21;01m.\u001b[39;00m\u001b[38;5;21;01mterm\u001b[39;00m \u001b[38;5;28;01mimport\u001b[39;00m Term\n\u001b[1;32m      8\u001b[0m \u001b[38;5;28;01mfrom\u001b[39;00m \u001b[38;5;21;01msrc\u001b[39;00m\u001b[38;5;21;01m.\u001b[39;00m\u001b[38;5;21;01mpandasaurus\u001b[39;00m\u001b[38;5;21;01m.\u001b[39;00m\u001b[38;5;21;01mslim_manager\u001b[39;00m \u001b[38;5;28;01mimport\u001b[39;00m SlimManager\n",
      "\u001b[0;31mModuleNotFoundError\u001b[0m: No module named 'src'"
     ]
    }
   ],
   "source": [
    "from pandasaurus_cxg.anndata_enricher import AnndataEnricher\n",
    "from pandasaurus_cxg.anndata_analyzer import AnndataAnalyzer"
   ]
  },
  {
   "cell_type": "code",
   "execution_count": null,
   "metadata": {},
   "outputs": [],
   "source": []
  }
 ],
 "metadata": {
  "kernelspec": {
   "display_name": "Python 3 (ipykernel)",
   "language": "python",
   "name": "python3"
  },
  "language_info": {
   "codemirror_mode": {
    "name": "ipython",
    "version": 3
   },
   "file_extension": ".py",
   "mimetype": "text/x-python",
   "name": "python",
   "nbconvert_exporter": "python",
   "pygments_lexer": "ipython3",
   "version": "3.9.16"
  }
 },
 "nbformat": 4,
 "nbformat_minor": 1
}
